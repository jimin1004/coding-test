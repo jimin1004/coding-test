{
 "cells": [
  {
   "cell_type": "markdown",
   "metadata": {},
   "source": [
    "# 1931. 회의실 배정\n",
    "**[Difficulty: s1]**\n",
    "\n",
    "## 문제\n",
    "한 개의 회의실이 있는데 이를 사용하고자 하는 N개의 회의에 대하여 회의실 사용표를 만들려고 한다. 각 회의 I에 대해 시작시간과 끝나는 시간이 주어져 있고, 각 회의가 겹치지 않게 하면서 회의실을 사용할 수 있는 회의의 최대 개수를 찾아보자. 단, 회의는 한번 시작하면 중간에 중단될 수 없으며 한 회의가 끝나는 것과 동시에 다음 회의가 시작될 수 있다. 회의의 시작시간과 끝나는 시간이 같을 수도 있다. 이 경우에는 시작하자마자 끝나는 것으로 생각하면 된다.\n",
    "\n",
    "## 입력\n",
    "첫째 줄에 회의의 수 N(1 ≤ N ≤ 100,000)이 주어진다. 둘째 줄부터 N+1 줄까지 각 회의의 정보가 주어지는데 이것은 공백을 사이에 두고 회의의 시작시간과 끝나는 시간이 주어진다. 시작 시간과 끝나는 시간은 231-1보다 작거나 같은 자연수 또는 0이다.\n",
    "\n",
    "## 출력\n",
    "첫째 줄에 최대 사용할 수 있는 회의의 최대 개수를 출력한다."
   ]
  },
  {
   "cell_type": "code",
   "execution_count": 12,
   "metadata": {},
   "outputs": [
    {
     "name": "stdout",
     "output_type": "stream",
     "text": [
      "32\n"
     ]
    }
   ],
   "source": [
    "import sys\n",
    "sys.stdin = open('11399_input.txt')\n",
    "N = int(sys.stdin.readline())\n",
    "Pi = sys.stdin.readline().split()\n",
    "result = 0\n",
    "\n",
    "# Pi를 str에서 int로 변환\n",
    "for i in range(N):\n",
    "    Pi[i] = int(Pi[i])\n",
    "\n",
    "# Pi 오름차순으로 정렬\n",
    "Pi = sorted(Pi)\n",
    "\n",
    "for i in range(N):\n",
    "    for j in range(i,-1,-1): # Pj가 기다려야 하는 시간 Tj = Pj + Pj-1 + Pj-2 ... T0\n",
    "        result += Pi[j]\n",
    "        \n",
    "print(result)"
   ]
  },
  {
   "cell_type": "markdown",
   "metadata": {},
   "source": [
    "## Challenges"
   ]
  },
  {
   "cell_type": "markdown",
   "metadata": {},
   "source": []
  }
 ],
 "metadata": {
  "kernelspec": {
   "display_name": "Python 3",
   "language": "python",
   "name": "python3"
  },
  "language_info": {
   "codemirror_mode": {
    "name": "ipython",
    "version": 3
   },
   "file_extension": ".py",
   "mimetype": "text/x-python",
   "name": "python",
   "nbconvert_exporter": "python",
   "pygments_lexer": "ipython3",
   "version": "3.11.0"
  },
  "orig_nbformat": 4
 },
 "nbformat": 4,
 "nbformat_minor": 2
}
