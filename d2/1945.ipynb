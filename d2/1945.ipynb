{
 "cells": [
  {
   "cell_type": "markdown",
   "metadata": {},
   "source": [
    "# 1945. 간단한 소인수분해\n",
    "**[Difficulty: d2]**\n",
    "\n",
    "숫자 N은 아래와 같다.\n",
    "\n",
    "N=2^a x 3^b x 5^c x 7^d x 11^e\n",
    "\n",
    "N이 주어질 때 a, b, c, d, e 를 출력하라.\n",
    "\n",
    "\n",
    "[제약 사항]\n",
    "\n",
    "N은 2 이상 10,000,000 이하이다.\n",
    "\n",
    "\n",
    "[입력]\n",
    "\n",
    "가장 첫 줄에는 테스트 케이스의 개수 T가 주어지고, 그 아래로 각 테스트 케이스가 주어진다.\n",
    "\n",
    "각 테스트 케이스의 첫 번째 줄에 N 이 주어진다.\n",
    "\n",
    "\n",
    "[출력]\n",
    "\n",
    "출력의 각 줄은 '#t'로 시작하고, 공백을 한 칸 둔 다음 정답을 출력한다.\n",
    "\n",
    "(t는 테스트 케이스의 번호를 의미하며 1부터 시작한다.)"
   ]
  },
  {
   "cell_type": "code",
   "execution_count": null,
   "metadata": {},
   "outputs": [],
   "source": [
    "import sys\n",
    "sys.stdin = open(\"1945_input.txt\", \"r\")\n",
    "\n",
    "#T = int(input())\n",
    "T = int(sys.stdin.readline()) #첫 번째줄 읽어서 정수로 변환\n",
    "\n",
    "for test_case in range(T):\n",
    "    a, b, c, d, e = 0, 0, 0, 0, 0 #변수 언패킹\n",
    "    N = int(sys.stdin.readline().strip()) #한 줄씩 읽고, 줄바꿈 문자 제거 이후 연산을 위해 정수로 변환\n",
    "    while N % 11 == 0 :\n",
    "        N = N / 11\n",
    "        e = e + 1\n",
    "    while N % 7 == 0 :\n",
    "        N = N / 7\n",
    "        d = d + 1\n",
    "    while N % 5 == 0 :\n",
    "        N = N / 5\n",
    "        c = c + 1\n",
    "    while N % 3 == 0 :\n",
    "        N = N / 3\n",
    "        b = b + 1\n",
    "    while N % 2 == 0 :\n",
    "        N = N / 2\n",
    "        a = a + 1\n",
    "    print(\"#\"+str(test_case+1), a, b, c, d, e) #+연산은 str끼리만 가능\n"
   ]
  },
  {
   "cell_type": "markdown",
   "metadata": {},
   "source": [
    "python 본 지 너무 오래되어서 c랑 헷갈림. 입출력 다루는 것부터 시간이 한참 소요됨ㅠㅠ\n",
    "\n",
    "## Challenges\n",
    "- 변수 언패킹 방법으로 여러 변수 한꺼번에 선언 가능\n",
    "- python은 c랑 다르게 += 나 ++ 같은 연산자가 지원되지 않음\n",
    "- 왜 굳이 sys.stdin 으로 파일 읽기를 하는지 찾아보기"
   ]
  }
 ],
 "metadata": {
  "kernelspec": {
   "display_name": "Python 3",
   "language": "python",
   "name": "python3"
  },
  "language_info": {
   "codemirror_mode": {
    "name": "ipython",
    "version": 3
   },
   "file_extension": ".py",
   "mimetype": "text/x-python",
   "name": "python",
   "nbconvert_exporter": "python",
   "pygments_lexer": "ipython3",
   "version": "3.11.0"
  },
  "orig_nbformat": 4
 },
 "nbformat": 4,
 "nbformat_minor": 2
}
