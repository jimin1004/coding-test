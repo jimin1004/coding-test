{
 "cells": [
  {
   "cell_type": "markdown",
   "metadata": {},
   "source": [
    "# 6190. 정곤이의 단조 증가하는 수\n",
    "**[Difficulty: d3]**\n",
    "\n",
    "## 문제\n",
    "정곤이는 자신이 엄청난 수학자임을 증명하기 위해, 어떤 규칙 만족하는 수를 찾아보기로 했다.\n",
    "\n",
    "그 규칙은 단조 증가하는 수인데, 각 숫자의 자릿수가 단순하게 증가하는 수를 말한다.\n",
    "\n",
    "어떤 k자리 수 X = d1d2…dk 가 d1 ≤ d2 ≤ … ≤ dk 를 만족하면 단조 증가하는 수이다.\n",
    "\n",
    "예를 들어 111566, 233359는 단조 증가하는 수이고, 12343, 999888은 단조 증가하는 수가 아니다.\n",
    "\n",
    "양의 정수 N 개 A1, …, AN이 주어진다.\n",
    "\n",
    " 1 ≤ i < j ≤ N 인 두 i, j에 대해, Ai x Aj값이 단조 증가하는 수인 것들을 구하고 그 중의 최댓값을 출력하는 프로그램을 작성하라.\n",
    "\n",
    "\n",
    "## [입력]\n",
    "\n",
    "첫 번째 줄에 테스트 케이스의 수 T가 주어진다.\n",
    "\n",
    "각 테스트 케이스의 첫 번째 줄에는 하나의 정수 N(1 ≤N ≤ 1,000) 이 주어진다.\n",
    "\n",
    "두 번째 줄에는 N개의 정수 A1, …, AN(1 ≤ Ai ≤ 30,000) 이 공백 하나로 구분되어 주어진다.\n",
    "\n",
    "\n",
    "# [출력]\n",
    "\n",
    "각 테스트 케이스마다 단조 증가하는 수인 Ai x Aj중에서 그 최댓값을 출력한다.\n",
    "\n",
    "만약 Ai x Aj중에서 단조 증가하는 수가 없다면 -1을 출력한다."
   ]
  },
  {
   "cell_type": "code",
   "execution_count": 116,
   "metadata": {},
   "outputs": [
    {
     "name": "stdout",
     "output_type": "stream",
     "text": [
      "#1 28\n"
     ]
    }
   ],
   "source": [
    "import sys\n",
    "sys.stdin = open('6190_input.txt')\n",
    "T = int(sys.stdin.readline())\n",
    "\n",
    "\n",
    "def check(x):\n",
    "    while(x):\n",
    "        if (x%10) < ((x//10) % 10):\n",
    "            return False\n",
    "        x = x // 10\n",
    "    return True\n",
    "\n",
    "for t in range(T):\n",
    "    N = int(sys.stdin.readline())\n",
    "    Ai = list(map(int, sys.stdin.readline().split()))\n",
    "\n",
    "    max = -1\n",
    "\n",
    "    for i in range(N-1):\n",
    "        for j in range(i+1, N):\n",
    "            AixAj = Ai[i] * Ai[j]\n",
    "            AixAj2= AixAj\n",
    "            \n",
    "            if check(AixAj) == True:\n",
    "                if (AixAj > max):\n",
    "                    max = AixAj\n",
    "    \n",
    "    print('#%d' %(t+1), max)\n"
   ]
  },
  {
   "cell_type": "markdown",
   "metadata": {},
   "source": [
    "## Challenges"
   ]
  },
  {
   "cell_type": "markdown",
   "metadata": {},
   "source": [
    "- AixAj 값의 각 자릿수를 리스트 요소로 분리 한 후 sorted 로 정렬하여 단조 증가 확인하니 시간 초과 발생\n",
    "- 단조 증가 확인을 별도의 함수로 구현하여 해결. 각 자리 수는 % 10과 //10 연산을 반복하여 비교"
   ]
  }
 ],
 "metadata": {
  "kernelspec": {
   "display_name": "Python 3",
   "language": "python",
   "name": "python3"
  },
  "language_info": {
   "codemirror_mode": {
    "name": "ipython",
    "version": 3
   },
   "file_extension": ".py",
   "mimetype": "text/x-python",
   "name": "python",
   "nbconvert_exporter": "python",
   "pygments_lexer": "ipython3",
   "version": "3.11.0"
  },
  "orig_nbformat": 4
 },
 "nbformat": 4,
 "nbformat_minor": 2
}
