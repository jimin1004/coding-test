{
 "cells": [
  {
   "cell_type": "markdown",
   "metadata": {},
   "source": [
    "# 11055. 가장 큰 증가하는 부분 수열\n",
    "**[Difficulty: s2]**\n",
    "\n",
    "## 문제\n",
    "수열 A가 주어졌을 때, 그 수열의 증가하는 부분 수열 중에서 합이 가장 큰 것을 구하는 프로그램을 작성하시오.\n",
    "\n",
    "예를 들어, 수열 A = {1, 100, 2, 50, 60, 3, 5, 6, 7, 8} 인 경우에 합이 가장 큰 증가하는 부분 수열은 A = {**1**, 100, **2, 50, 60**, 3, 5, 6, 7, 8} 이고, 합은 113이다.\n",
    "\n",
    "## 입력\n",
    "첫째 줄에 수열 A의 크기 N (1 ≤ N ≤ 1,000)이 주어진다.\n",
    "\n",
    "둘째 줄에는 수열 A를 이루고 있는 Ai가 주어진다. (1 ≤ Ai ≤ 1,000)\n",
    "\n",
    "## 출력\n",
    "첫째 줄에 수열 A의 합이 가장 큰 증가하는 부분 수열의 합을 출력한다."
   ]
  },
  {
   "cell_type": "code",
   "execution_count": 11,
   "metadata": {},
   "outputs": [
    {
     "name": "stdout",
     "output_type": "stream",
     "text": [
      "[1, 100, 2, 50, 60, 3, 5, 6, 7, 8]\n",
      "113\n"
     ]
    }
   ],
   "source": [
    "import sys\n",
    "sys.stdin = open('11055_input.txt')\n",
    "N = int(sys.stdin.readline())\n",
    "Ai = list(map(int, sys.stdin.readline().split()))\n",
    "dp = Ai[:] # Ai를 복사하여 dp 리스트 초기화\n",
    "\n",
    "for i in range(1, N):\n",
    "    for j in range(i):\n",
    "        if Ai[j] < Ai[i]:\n",
    "            dp[i] = max(dp[i], dp[j] + Ai[i])\n",
    "\n",
    "print(max(dp))"
   ]
  },
  {
   "cell_type": "markdown",
   "metadata": {},
   "source": [
    "## Challenges"
   ]
  },
  {
   "cell_type": "markdown",
   "metadata": {},
   "source": [
    "- 너무 어렵다... 다시 보기"
   ]
  }
 ],
 "metadata": {
  "kernelspec": {
   "display_name": "Python 3",
   "language": "python",
   "name": "python3"
  },
  "language_info": {
   "codemirror_mode": {
    "name": "ipython",
    "version": 3
   },
   "file_extension": ".py",
   "mimetype": "text/x-python",
   "name": "python",
   "nbconvert_exporter": "python",
   "pygments_lexer": "ipython3",
   "version": "3.11.0"
  },
  "orig_nbformat": 4
 },
 "nbformat": 4,
 "nbformat_minor": 2
}
