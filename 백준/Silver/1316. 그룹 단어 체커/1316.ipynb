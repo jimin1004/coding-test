{
 "cells": [
  {
   "cell_type": "markdown",
   "metadata": {},
   "source": [
    "# 1316. 그룹 단어 체커\n",
    "**[Difficulty: s5]**\n",
    "\n",
    "## 문제\n",
    "그룹 단어란 단어에 존재하는 모든 문자에 대해서, 각 문자가 연속해서 나타나는 경우만을 말한다. 예를 들면, ccazzzzbb는 c, a, z, b가 모두 연속해서 나타나고, kin도 k, i, n이 연속해서 나타나기 때문에 그룹 단어이지만, aabbbccb는 b가 떨어져서 나타나기 때문에 그룹 단어가 아니다.\n",
    "\n",
    "단어 N개를 입력으로 받아 그룹 단어의 개수를 출력하는 프로그램을 작성하시오.\n",
    "\n",
    "## 입력\n",
    "첫째 줄에 단어의 개수 N이 들어온다. N은 100보다 작거나 같은 자연수이다. 둘째 줄부터 N개의 줄에 단어가 들어온다. 단어는 알파벳 소문자로만 되어있고 중복되지 않으며, 길이는 최대 100이다.\n",
    "\n",
    "## 출력\n",
    "첫째 줄에 그룹 단어의 개수를 출력한다."
   ]
  },
  {
   "cell_type": "code",
   "execution_count": 7,
   "metadata": {},
   "outputs": [
    {
     "name": "stdout",
     "output_type": "stream",
     "text": [
      "2\n"
     ]
    }
   ],
   "source": [
    "import sys\n",
    "sys.stdin = open('1316_input.txt', 'r')\n",
    "result = 0\n",
    "n = int(sys.stdin.readline())\n",
    "for test_case in range(n):\n",
    "    word = sys.stdin.readline().strip()\n",
    "    used_char = set(word)\n",
    "    for char in used_char:\n",
    "        status = 0 #해당 문자 아직 발견 못했을 때\n",
    "        for letter in word:\n",
    "            if (letter == char)&(status==0):\n",
    "                status = 1 #해당 문자 시작\n",
    "            elif (letter != char)&(status==1):\n",
    "                status = 2 #문자 끝 \n",
    "            elif (letter == char)&(status==2): # 그룹 문자 아님\n",
    "                status = 3 # 그룹 문자 아님\n",
    "                break \n",
    "        if status == 3:\n",
    "            break\n",
    "    if status != 3:\n",
    "        result = result + 1\n",
    "print(result)\n",
    "a=3"
   ]
  },
  {
   "cell_type": "markdown",
   "metadata": {},
   "source": []
  },
  {
   "cell_type": "code",
   "execution_count": 11,
   "metadata": {},
   "outputs": [
    {
     "name": "stdout",
     "output_type": "stream",
     "text": [
      "2\n"
     ]
    }
   ],
   "source": [
    "%%python3\n",
    "import sys\n",
    "sys.stdin = open('1316_input.txt', 'r')\n",
    "result = 0\n",
    "n = int(sys.stdin.readline())\n",
    "for test_case in range(n):\n",
    "    word = sys.stdin.readline().strip()\n",
    "    used_char = set(word)\n",
    "    for char in used_char:\n",
    "        status = 0 #해당 문자 아직 발견 못했을 때\n",
    "        for letter in word:\n",
    "            if (letter == char)&(status==0):\n",
    "                status = 1 #해당 문자 시작\n",
    "            elif (letter != char)&(status==1):\n",
    "                status = 2 #문자 끝 \n",
    "            elif (letter == char)&(status==2): # 그룹 문자 아님\n",
    "                status = 3 # 그룹 문자 아님\n",
    "                break \n",
    "        if status == 3:\n",
    "            break\n",
    "    if status != 3:\n",
    "        result = result + 1\n",
    "print(result)"
   ]
  },
  {
   "cell_type": "markdown",
   "metadata": {},
   "source": [
    "## Challenges\n",
    "- input() 보다 sys.stdin.readline()이 더 빠름\n",
    "- sys.stdin로 사용자 입력을 받는 것은 jupyter에서 안 되는 듯. input()을 쓰거나 파일 입력으로 대체하기"
   ]
  }
 ],
 "metadata": {
  "kernelspec": {
   "display_name": "Python 3",
   "language": "python",
   "name": "python3"
  },
  "language_info": {
   "codemirror_mode": {
    "name": "ipython",
    "version": 3
   },
   "file_extension": ".py",
   "mimetype": "text/x-python",
   "name": "python",
   "nbconvert_exporter": "python",
   "pygments_lexer": "ipython3",
   "version": "3.11.0"
  },
  "orig_nbformat": 4
 },
 "nbformat": 4,
 "nbformat_minor": 2
}
