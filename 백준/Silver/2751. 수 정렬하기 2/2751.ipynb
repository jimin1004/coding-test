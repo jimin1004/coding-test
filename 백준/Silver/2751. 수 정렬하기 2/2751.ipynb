{
 "cells": [
  {
   "cell_type": "markdown",
   "metadata": {},
   "source": [
    "# 2751. 수 정렬하기 2\n",
    "**[Difficulty: s5]**\n",
    "\n",
    "## 문제\n",
    "N개의 수가 주어졌을 때, 이를 오름차순으로 정렬하는 프로그램을 작성하시오.\n",
    "\n",
    "## 입력\n",
    "첫째 줄에 수의 개수 N(1 ≤ N ≤ 1,000,000)이 주어진다. 둘째 줄부터 N개의 줄에는 수가 주어진다. 이 수는 절댓값이 1,000,000보다 작거나 같은 정수이다. 수는 중복되지 않는다.\n",
    "\n",
    "## 출력\n",
    "첫째 줄부터 N개의 줄에 오름차순으로 정렬한 결과를 한 줄에 하나씩 출력한다."
   ]
  },
  {
   "cell_type": "code",
   "execution_count": 24,
   "metadata": {},
   "outputs": [
    {
     "name": "stdout",
     "output_type": "stream",
     "text": [
      "1\n",
      "2\n",
      "3\n",
      "4\n",
      "5\n"
     ]
    }
   ],
   "source": [
    "import sys\n",
    "sys.stdin = open('input_2751.txt', 'r')\n",
    "n = int(sys.stdin.readline())\n",
    "nums = [] # 정렬할 숫자가 들어갈 리스트\n",
    "\n",
    "for i in range(n): ## 모든 숫자 일단 리스트에 저장\n",
    "    nums.append(int(sys.stdin.readline().rstrip()))\n",
    "\n",
    "nums.sort()\n",
    "\n",
    "for i in nums:\n",
    "    print(i)"
   ]
  },
  {
   "cell_type": "markdown",
   "metadata": {},
   "source": [
    "## Challenges\n",
    "- rstrip()은 오른쪽 공백 제거\n",
    "- split()은 공백 기준으로 str 나누어서 리스트로 저장\n",
    "- 입출력시 형 주의하기 int(sys.stdin.readline().rstrip())에서 int 안해주니 틀렸다고 나옴."
   ]
  }
 ],
 "metadata": {
  "kernelspec": {
   "display_name": "Python 3",
   "language": "python",
   "name": "python3"
  },
  "language_info": {
   "codemirror_mode": {
    "name": "ipython",
    "version": 3
   },
   "file_extension": ".py",
   "mimetype": "text/x-python",
   "name": "python",
   "nbconvert_exporter": "python",
   "pygments_lexer": "ipython3",
   "version": "3.11.0"
  },
  "orig_nbformat": 4
 },
 "nbformat": 4,
 "nbformat_minor": 2
}
