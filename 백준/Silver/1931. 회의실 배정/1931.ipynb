{
 "cells": [
  {
   "cell_type": "markdown",
   "metadata": {},
   "source": [
    "# 1931. 회의실 배정\n",
    "**[Difficulty: s1]**\n",
    "\n",
    "## 문제\n",
    "한 개의 회의실이 있는데 이를 사용하고자 하는 N개의 회의에 대하여 회의실 사용표를 만들려고 한다. 각 회의 I에 대해 시작시간과 끝나는 시간이 주어져 있고, 각 회의가 겹치지 않게 하면서 회의실을 사용할 수 있는 회의의 최대 개수를 찾아보자. 단, 회의는 한번 시작하면 중간에 중단될 수 없으며 한 회의가 끝나는 것과 동시에 다음 회의가 시작될 수 있다. 회의의 시작시간과 끝나는 시간이 같을 수도 있다. 이 경우에는 시작하자마자 끝나는 것으로 생각하면 된다.\n",
    "\n",
    "## 입력\n",
    "첫째 줄에 회의의 수 N(1 ≤ N ≤ 100,000)이 주어진다. 둘째 줄부터 N+1 줄까지 각 회의의 정보가 주어지는데 이것은 공백을 사이에 두고 회의의 시작시간과 끝나는 시간이 주어진다. 시작 시간과 끝나는 시간은 2^31-1보다 작거나 같은 자연수 또는 0이다.\n",
    "\n",
    "## 출력\n",
    "첫째 줄에 최대 사용할 수 있는 회의의 최대 개수를 출력한다."
   ]
  },
  {
   "cell_type": "code",
   "execution_count": 61,
   "metadata": {},
   "outputs": [
    {
     "name": "stdout",
     "output_type": "stream",
     "text": [
      "[[1, 4], [5, 7], [8, 11], [12, 14]]\n",
      "4\n"
     ]
    }
   ],
   "source": [
    "import sys\n",
    "sys.stdin = open('1931_input.txt')\n",
    "N = int(sys.stdin.readline())\n",
    "I = [] #회의 리스트\n",
    "L = [] #최대로 많이 회의를 할 때 회의 리스트\n",
    "\n",
    "for i in range(N):\n",
    "    I.append(list(map(int, sys.stdin.readline().split())))\n",
    "\n",
    "I = sorted(I, key= lambda x : [x[1], x[0]]) # 회의가 끝나는 시간 그 다음 시작하는 시간 순으로 정렬\n",
    "L.append(I[0])\n",
    "meeting_i = 0\n",
    "\n",
    "for i in range(meeting_i+1, N):\n",
    "    if I[meeting_i][1] <= I[i][0]: #두 회의가 겹치지 않음\n",
    "        L.append(I[i])\n",
    "        meeting_i = i #다음 회의 탐색을 위해 찾은 회의로 인덱스 변경\n",
    "\n",
    "print(len(L))"
   ]
  },
  {
   "cell_type": "markdown",
   "metadata": {},
   "source": [
    "## Challenges"
   ]
  },
  {
   "cell_type": "markdown",
   "metadata": {},
   "source": [
    "- 회의 시작 시간으로 정렬하고 무지성 for문을 돌렸더니 시간 초과가 났다. 불필요하게 재귀를 쓴 부분도 한 몫하는 듯\n",
    "- 풀이를 보니 회의 끝나는 시간으로 정렬 후, 가장 첫 번째 요소가 포함되도록 하면 최대 회의 개수라고 한다. "
   ]
  }
 ],
 "metadata": {
  "kernelspec": {
   "display_name": "Python 3",
   "language": "python",
   "name": "python3"
  },
  "language_info": {
   "codemirror_mode": {
    "name": "ipython",
    "version": 3
   },
   "file_extension": ".py",
   "mimetype": "text/x-python",
   "name": "python",
   "nbconvert_exporter": "python",
   "pygments_lexer": "ipython3",
   "version": "3.11.0"
  },
  "orig_nbformat": 4
 },
 "nbformat": 4,
 "nbformat_minor": 2
}
