{
 "cells": [
  {
   "cell_type": "markdown",
   "metadata": {},
   "source": [
    "# 2839. 설탕 배달\n",
    "**[Difficulty: s4]**\n",
    "\n",
    "## 문제\n",
    "상근이는 요즘 설탕공장에서 설탕을 배달하고 있다. 상근이는 지금 사탕가게에 설탕을 정확하게 N킬로그램을 배달해야 한다. 설탕공장에서 만드는 설탕은 봉지에 담겨져 있다. 봉지는 3킬로그램 봉지와 5킬로그램 봉지가 있다.\n",
    "\n",
    "상근이는 귀찮기 때문에, 최대한 적은 봉지를 들고 가려고 한다. 예를 들어, 18킬로그램 설탕을 배달해야 할 때, 3킬로그램 봉지 6개를 가져가도 되지만, 5킬로그램 3개와 3킬로그램 1개를 배달하면, 더 적은 개수의 봉지를 배달할 수 있다.\n",
    "\n",
    "상근이가 설탕을 정확하게 N킬로그램 배달해야 할 때, 봉지 몇 개를 가져가면 되는지 그 수를 구하는 프로그램을 작성하시오.\n",
    "\n",
    "## 입력\n",
    "첫째 줄에 N이 주어진다. (3 ≤ N ≤ 5000)\n",
    "\n",
    "## 출력\n",
    "상근이가 배달하는 봉지의 최소 개수를 출력한다. 만약, 정확하게 N킬로그램을 만들 수 없다면 -1을 출력한다."
   ]
  },
  {
   "cell_type": "code",
   "execution_count": 16,
   "metadata": {},
   "outputs": [
    {
     "name": "stdout",
     "output_type": "stream",
     "text": [
      "4\n"
     ]
    }
   ],
   "source": [
    "import sys\n",
    "# N = int(sys.stdin.readline())\n",
    "N = int(input())\n",
    "\n",
    "a = 0 # num of 5kg\n",
    "b = 0 # num of 3kg\n",
    "\n",
    "#5kg 수를 가장 크게 해서 5*a+3*b 만족하는 a, b 찾기\n",
    "for a in range(int(N/5), -1, -1):\n",
    "    for b in range(int(N/3+1)):\n",
    "        if (5*a + 3* b == N):\n",
    "            result = a + b\n",
    "            break\n",
    "    if (5*a + 3* b == N):\n",
    "        break\n",
    "if (5*a + 3* b != N):\n",
    "    result = -1\n",
    "print(result)\n"
   ]
  },
  {
   "cell_type": "markdown",
   "metadata": {},
   "source": [
    "## Challenges"
   ]
  },
  {
   "cell_type": "markdown",
   "metadata": {},
   "source": [
    "- range(10, 0, -1)이라고 하면 10에서 1까지 -1씩 감소\n",
    "- 다른 풀이를 보니 나는 복잡하게 푼 편이고, 5로 나누어 떨어지는지 먼저 확인한다음 가능하면 5로 먼저 나누고, 아니면 3씩 빼는 방법이 좋아보인다.."
   ]
  }
 ],
 "metadata": {
  "kernelspec": {
   "display_name": "Python 3",
   "language": "python",
   "name": "python3"
  },
  "language_info": {
   "codemirror_mode": {
    "name": "ipython",
    "version": 3
   },
   "file_extension": ".py",
   "mimetype": "text/x-python",
   "name": "python",
   "nbconvert_exporter": "python",
   "pygments_lexer": "ipython3",
   "version": "3.11.0"
  },
  "orig_nbformat": 4
 },
 "nbformat": 4,
 "nbformat_minor": 2
}
