{
 "cells": [
  {
   "cell_type": "markdown",
   "metadata": {},
   "source": [
    "# 1181. 단어 정렬\n",
    "**[Difficulty: s5]**\n",
    "\n",
    "## 문제\n",
    "알파벳 소문자로 이루어진 N개의 단어가 들어오면 아래와 같은 조건에 따라 정렬하는 프로그램을 작성하시오.\n",
    "\n",
    "1. 길이가 짧은 것부터\n",
    "1. 길이가 같으면 사전 순으로\n",
    "\n",
    "단, 중복된 단어는 하나만 남기고 제거해야 한다.\n",
    "\n",
    "## 입력\n",
    "첫째 줄에 단어의 개수 N이 주어진다. (1 ≤ N ≤ 20,000) 둘째 줄부터 N개의 줄에 걸쳐 알파벳 소문자로 이루어진 단어가 한 줄에 하나씩 주어진다. 주어지는 문자열의 길이는 50을 넘지 않는다.\n",
    "\n",
    "## 출력\n",
    "조건에 따라 정렬하여 단어들을 출력한다."
   ]
  },
  {
   "cell_type": "code",
   "execution_count": null,
   "metadata": {},
   "outputs": [],
   "source": [
    "\"\"\"import sys\n",
    "sys.stdin = open('1181_input.txt', 'r')\n",
    "N = int(sys.stdin.readline())\n",
    "\n",
    "# 정렬할 단어가 들어갈 리스트\n",
    "swords = set() \n",
    "lwords = []\n",
    "\n",
    "# 모든 단어 집합에 넣어 중복 제거\n",
    "for i in range(N): \n",
    "    swords.add(sys.stdin.readline().rstrip())\n",
    "\n",
    "# 집합을 리스트로 변환\n",
    "lwords = list(swords)\n",
    "\n",
    "# 중복을 제외한 단어 수\n",
    "num_of_words = len(lwords)\n",
    "\n",
    "# 길이에 따라 먼저 정렬\n",
    "for j in range(num_of_words-1):\n",
    "    for i in range(num_of_words-1-j):\n",
    "        if len(lwords[i]) > len(lwords[i+1]):\n",
    "            lwords[i], lwords[i+1] = lwords[i+1], lwords[i]\n",
    "\n",
    "# 사전 순으로 정렬\n",
    "j = 0\n",
    "for i in range(num_of_words-2):\n",
    "        if len(lwords[i]) != len(lwords[i+1]):\n",
    "            a = lwords[:j]\n",
    "            b = lwords[j:i+1]\n",
    "            c = lwords[i+1:]\n",
    "            j = i+1\n",
    "            lwords = a + sorted(b) + c \n",
    "\n",
    "for i in lwords:\n",
    "    print(i)\"\"\""
   ]
  },
  {
   "cell_type": "code",
   "execution_count": 1,
   "metadata": {},
   "outputs": [
    {
     "name": "stdout",
     "output_type": "stream",
     "text": [
      "i\n",
      "im\n",
      "it\n",
      "no\n",
      "but\n",
      "more\n",
      "wait\n",
      "wont\n",
      "yours\n",
      "cannot\n",
      "hesitate\n"
     ]
    }
   ],
   "source": [
    "import sys\n",
    "sys.stdin = open('1181_input.txt', 'r')\n",
    "N = int(sys.stdin.readline())\n",
    "\n",
    "# 정렬할 단어가 들어갈 리스트\n",
    "swords = set() \n",
    "lwords = []\n",
    "\n",
    "# 모든 단어 집합에 넣어 중복 제거\n",
    "for i in range(N): \n",
    "    swords.add(sys.stdin.readline().rstrip())\n",
    "\n",
    "# (단어의 길이, 단어)의 튜플로 리스트로 변환\n",
    "for i in swords:\n",
    "    lwords.append((len(i), i))\n",
    "\n",
    "# 단어의 길이를 먼저 그 다음 오름 차순으로 정렬\n",
    "lwords = sorted(lwords, key = lambda lword : (lword[0], lword[1]))\n",
    "\n",
    "for len, i in lwords:\n",
    "    print(i)"
   ]
  },
  {
   "cell_type": "markdown",
   "metadata": {},
   "source": [
    "## Challenges\n",
    "- 버블 정렬을 사용하니 시간 초과\n",
    "- sorted 사용시 튜블은 key 순서대로 정렬\n",
    "- list(set) 을 이용해 집합을 list로 변환\n",
    "- 리스트.sort() 는 본체의 리스트를 정렬해서 변환\n",
    "- sorted(list)에서 본체 리스트는 내버려두고, 정렬한 새로운 리스트를 반환"
   ]
  }
 ],
 "metadata": {
  "kernelspec": {
   "display_name": "Python 3",
   "language": "python",
   "name": "python3"
  },
  "language_info": {
   "codemirror_mode": {
    "name": "ipython",
    "version": 3
   },
   "file_extension": ".py",
   "mimetype": "text/x-python",
   "name": "python",
   "nbconvert_exporter": "python",
   "pygments_lexer": "ipython3",
   "version": "3.11.0"
  },
  "orig_nbformat": 4
 },
 "nbformat": 4,
 "nbformat_minor": 2
}
