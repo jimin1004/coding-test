{
 "cells": [
  {
   "cell_type": "markdown",
   "metadata": {},
   "source": [
    "# 9625. BABBA\n",
    "**[Difficulty: s5]**\n",
    "\n",
    "## 문제\n",
    "상근이는 길을 걷다가 신기한 기계를 발견했다. 기계는 매우 매우 큰 화면과 버튼 하나로 이루어져 있다.\n",
    "\n",
    "기계를 발견했을 때, 화면에는 A만 표시되어져 있었다. 버튼을 누르니 글자가 B로 변했다. 한 번 더 누르니 BA로 바뀌고, 그 다음에는 BAB, 그리고 BABBA로 바뀌었다. 상근이는 화면의 모든 B는 BA로 바뀌고, A는 B로 바뀐다는 사실을 알게되었다.\n",
    "\n",
    "버튼을 K번 눌렀을 때, 화면에 A와 B의 개수는 몇 개가 될까?\n",
    "\n",
    "## 입력\n",
    "첫째 줄에 K (1 ≤ K ≤ 45)가 주어진다.\n",
    "\n",
    "## 출력\n",
    "첫째 줄에 A의 개수와 B의 개수를 공백으로 구분해 출력한다."
   ]
  },
  {
   "cell_type": "code",
   "execution_count": 13,
   "metadata": {},
   "outputs": [
    {
     "name": "stdout",
     "output_type": "stream",
     "text": [
      "34 55\n"
     ]
    }
   ],
   "source": [
    "import sys\n",
    "# K = int(sys.stdin.readline())\n",
    "K = int(input())\n",
    "\n",
    "'''\n",
    "num_of_A = 0 \n",
    "num_of_B = 0\n",
    "str = 'A'\n",
    "for i in range(K):\n",
    "    str = str.replace('A', '1')\n",
    "    str = str.replace('B', 'BA')\n",
    "    str = str.replace('1', 'B')\n",
    "num_of_A = str.count('A')\n",
    "num_of_B = str.count('B')\n",
    "print(num_of_A, num_of_B)\n",
    "'''\n",
    "As = [1, 0]\n",
    "Bs = [0, 1]\n",
    "\n",
    "for i in range(2, K+1):\n",
    "    As.append(As[i-2] + As[i-1])\n",
    "    Bs.append(Bs[i-2] + Bs[i-1])\n",
    "\n",
    "print(As[K], Bs[K])\n"
   ]
  },
  {
   "cell_type": "markdown",
   "metadata": {},
   "source": [
    "## Challenges"
   ]
  },
  {
   "cell_type": "markdown",
   "metadata": {},
   "source": [
    "- str.replace() 를 사용하니 메모리 초과 발생. str 만들 때 마다 메모리 재할당하는 것이 아닐까? 추측..\n",
    "- 패드로 직접 써보고 점화식 만들기"
   ]
  }
 ],
 "metadata": {
  "kernelspec": {
   "display_name": "Python 3",
   "language": "python",
   "name": "python3"
  },
  "language_info": {
   "codemirror_mode": {
    "name": "ipython",
    "version": 3
   },
   "file_extension": ".py",
   "mimetype": "text/x-python",
   "name": "python",
   "nbconvert_exporter": "python",
   "pygments_lexer": "ipython3",
   "version": "3.11.0"
  },
  "orig_nbformat": 4
 },
 "nbformat": 4,
 "nbformat_minor": 2
}
